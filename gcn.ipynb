{
  "cells": [
    {
      "cell_type": "markdown",
      "metadata": {},
      "source": [
        "# Article Topic Classification"
      ]
    },
    {
      "cell_type": "code",
      "execution_count": 49,
      "metadata": {
        "id": "M8aRGq_1QU7T"
      },
      "outputs": [],
      "source": [
        "from torch_geometric.datasets import Planetoid\n",
        "from torch_geometric.utils import degree\n",
        "from collections import Counter\n",
        "import matplotlib.pyplot as plt"
      ]
    },
    {
      "cell_type": "code",
      "execution_count": 50,
      "metadata": {
        "colab": {
          "base_uri": "https://localhost:8080/"
        },
        "id": "8TvG25XGQ_pj",
        "outputId": "8da2adab-a5ae-4957-e998-43c0d028ebb4"
      },
      "outputs": [
        {
          "data": {
            "text/plain": [
              "Data(x=[2708, 1433], edge_index=[2, 10556], y=[2708], train_mask=[2708], val_mask=[2708], test_mask=[2708])"
            ]
          },
          "execution_count": 50,
          "metadata": {},
          "output_type": "execute_result"
        }
      ],
      "source": [
        "dataset = Planetoid(root=\"./datasets/\", name=\"Cora\")\n",
        "data = dataset[0]\n",
        "data"
      ]
    },
    {
      "cell_type": "code",
      "execution_count": 51,
      "metadata": {
        "colab": {
          "base_uri": "https://localhost:8080/"
        },
        "id": "zNUqiUqcRIO9",
        "outputId": "e72800d7-aa0d-420e-892c-58c22e479632"
      },
      "outputs": [
        {
          "data": {
            "text/plain": [
              "array([3., 3., 5., ..., 1., 4., 4.], dtype=float32)"
            ]
          },
          "execution_count": 51,
          "metadata": {},
          "output_type": "execute_result"
        }
      ],
      "source": [
        "degrees  = degree(data.edge_index[0]).numpy()\n",
        "degrees"
      ]
    },
    {
      "cell_type": "code",
      "execution_count": 52,
      "metadata": {
        "colab": {
          "base_uri": "https://localhost:8080/"
        },
        "id": "GXDSa0zmRY9u",
        "outputId": "957d491f-ed09-47cc-f207-0cbc01a48bd7"
      },
      "outputs": [
        {
          "data": {
            "text/plain": [
              "Counter({2.0: 583,\n",
              "         3.0: 553,\n",
              "         1.0: 485,\n",
              "         4.0: 389,\n",
              "         5.0: 281,\n",
              "         6.0: 131,\n",
              "         7.0: 82,\n",
              "         8.0: 57,\n",
              "         10.0: 26,\n",
              "         9.0: 25,\n",
              "         12.0: 18,\n",
              "         11.0: 14,\n",
              "         17.0: 8,\n",
              "         16.0: 7,\n",
              "         14.0: 6,\n",
              "         15.0: 6,\n",
              "         19.0: 5,\n",
              "         13.0: 5,\n",
              "         21.0: 3,\n",
              "         18.0: 3,\n",
              "         23.0: 3,\n",
              "         32.0: 2,\n",
              "         30.0: 2,\n",
              "         36.0: 1,\n",
              "         78.0: 1,\n",
              "         33.0: 1,\n",
              "         29.0: 1,\n",
              "         34.0: 1,\n",
              "         26.0: 1,\n",
              "         168.0: 1,\n",
              "         22.0: 1,\n",
              "         42.0: 1,\n",
              "         74.0: 1,\n",
              "         44.0: 1,\n",
              "         31.0: 1,\n",
              "         65.0: 1,\n",
              "         40.0: 1})"
            ]
          },
          "execution_count": 52,
          "metadata": {},
          "output_type": "execute_result"
        }
      ],
      "source": [
        "numbers = Counter(degrees)\n",
        "numbers"
      ]
    },
    {
      "cell_type": "code",
      "execution_count": 53,
      "metadata": {
        "colab": {
          "base_uri": "https://localhost:8080/",
          "height": 466
        },
        "id": "67xLjoRYRj4z",
        "outputId": "6cab43fe-cb1e-453b-edef-b82cd810cab3"
      },
      "outputs": [
        {
          "data": {
            "text/plain": [
              "<BarContainer object of 37 artists>"
            ]
          },
          "execution_count": 53,
          "metadata": {},
          "output_type": "execute_result"
        },
        {
          "data": {
            "image/png": "[encoded data removed]",
            "text/plain": [
              "<Figure size 640x480 with 1 Axes>"
            ]
          },
          "metadata": {},
          "output_type": "display_data"
        }
      ],
      "source": [
        "fig, ax = plt.subplots()\n",
        "ax.set_xlabel('Node Degree')\n",
        "ax.set_ylabel('Number of nodes')\n",
        "plt.bar(numbers.keys(), numbers.values())"
      ]
    },
    {
      "cell_type": "code",
      "execution_count": 54,
      "metadata": {
        "id": "51oVLAhfSwxI"
      },
      "outputs": [],
      "source": [
        "import torch\n",
        "import torch.nn.functional as F\n",
        "from torch_geometric.nn import GCNConv"
      ]
    },
    {
      "cell_type": "code",
      "execution_count": 55,
      "metadata": {
        "id": "FI919a1DTFHd"
      },
      "outputs": [],
      "source": [
        "def accuracy(pred_y, y):\n",
        "  return ((pred_y == y).sum()/len(y)).item()"
      ]
    },
    {
      "cell_type": "code",
      "execution_count": 56,
      "metadata": {
        "id": "de7bc0ybTQ8U"
      },
      "outputs": [],
      "source": [
        "class GCN(torch.nn.Module):\n",
        "  def __init__(self, dim_in, dim_h, dim_out):\n",
        "    super().__init__()\n",
        "    self.gcn1 = GCNConv(dim_in, dim_h)\n",
        "    self.gcn2 = GCNConv(dim_h,dim_out)\n",
        "\n",
        "  def forward(self, x, edge_index):\n",
        "    h = self.gcn1(x, edge_index)\n",
        "    h = torch.relu(h)\n",
        "    h = self.gcn2(h, edge_index)\n",
        "    return F.log_softmax(h, dim=1)\n",
        "\n",
        "  def fit(self, data, epochs):\n",
        "    criterion = torch.nn.CrossEntropyLoss()\n",
        "    optimizer = torch.optim.Adam(self.parameters(),\n",
        "                                 lr=0.01,\n",
        "                                 weight_decay=5e-4)\n",
        "    self.train()\n",
        "    \n",
        "    for epoch in range(epochs + 1):\n",
        "      optimizer.zero_grad()\n",
        "      out = self.forward(data.x, data.edge_index)\n",
        "      \n",
        "      loss = criterion(out[data.train_mask], data.y[data.train_mask])\n",
        "      acc = accuracy(out[data.train_mask].argmax(dim=1), data.y[data.train_mask])\n",
        "      \n",
        "      loss.backward()\n",
        "      optimizer.step()\n",
        "\n",
        "      if (epoch % 20 == 0):\n",
        "        val_loss = criterion(out[data.val_mask], data.y[data.val_mask])\n",
        "        val_acc = accuracy(out[data.val_mask].argmax(dim=1), data.y[data.val_mask])\n",
        "        print(f'Epoch{epoch :> 3} | Train Loss: {loss:.3f} | Train Acc: {acc*100:>5.2f}% | Val Loss: {val_loss:.2f} | Val Acc : {val_acc*100:.2f}%')\n",
        "\n",
        "  @torch.no_grad()\n",
        "  def test(self, data):\n",
        "    self.eval()\n",
        "    out = self(data.x, data.edge_index)\n",
        "    acc = accuracy(out.argmax(dim=1)[data.test_mask], data.y[data.test_mask])\n",
        "    return acc"
      ]
    },
    {
      "cell_type": "code",
      "execution_count": 57,
      "metadata": {
        "colab": {
          "base_uri": "https://localhost:8080/"
        },
        "id": "tFW2EcvcWXgz",
        "outputId": "22cd82e3-bb04-4f5a-deb3-d3d327eb438a"
      },
      "outputs": [
        {
          "data": {
            "text/plain": [
              "GCN(\n",
              "  (gcn1): GCNConv(1433, 16)\n",
              "  (gcn2): GCNConv(16, 7)\n",
              ")"
            ]
          },
          "execution_count": 57,
          "metadata": {},
          "output_type": "execute_result"
        }
      ],
      "source": [
        "gcn = GCN(dataset.num_features, 16, dataset.num_classes)\n",
        "gcn"
      ]
    },
    {
      "cell_type": "code",
      "execution_count": 58,
      "metadata": {
        "colab": {
          "base_uri": "https://localhost:8080/"
        },
        "id": "MbrwZ6V8WYcz",
        "outputId": "5b1d2655-a900-4d56-cf24-fdc45117192d"
      },
      "outputs": [
        {
          "name": "stdout",
          "output_type": "stream",
          "text": [
            "Epoch  0 | Train Loss: 1.958 | Train Acc:  7.14% | Val Loss: 1.97 | Val Acc : 5.00%\n",
            "Epoch 20 | Train Loss: 0.200 | Train Acc: 100.00% | Val Loss: 0.92 | Val Acc : 74.60%\n",
            "Epoch 40 | Train Loss: 0.021 | Train Acc: 100.00% | Val Loss: 0.78 | Val Acc : 76.20%\n",
            "Epoch 60 | Train Loss: 0.017 | Train Acc: 100.00% | Val Loss: 0.75 | Val Acc : 75.80%\n",
            "Epoch 80 | Train Loss: 0.019 | Train Acc: 100.00% | Val Loss: 0.73 | Val Acc : 76.60%\n",
            "Epoch 100 | Train Loss: 0.018 | Train Acc: 100.00% | Val Loss: 0.73 | Val Acc : 76.60%\n"
          ]
        }
      ],
      "source": [
        "gcn.fit(data, epochs=100)"
      ]
    },
    {
      "cell_type": "code",
      "execution_count": 59,
      "metadata": {
        "colab": {
          "base_uri": "https://localhost:8080/"
        },
        "id": "M9JaO_GxW00d",
        "outputId": "73a51b50-a934-4b41-92b4-2030c0e909d2"
      },
      "outputs": [
        {
          "data": {
            "text/plain": [
              "79.90000247955322"
            ]
          },
          "execution_count": 59,
          "metadata": {},
          "output_type": "execute_result"
        }
      ],
      "source": [
        "acc = gcn.test(data)\n",
        "acc * 100"
      ]
    },
    {
      "cell_type": "code",
      "execution_count": 60,
      "metadata": {},
      "outputs": [
        {
          "data": {
            "text/plain": [
              "tensor([[   0,    0,    0,  ..., 2707, 2707, 2707],\n",
              "        [ 633, 1862, 2582,  ...,  598, 1473, 2706]])"
            ]
          },
          "execution_count": 60,
          "metadata": {},
          "output_type": "execute_result"
        }
      ],
      "source": [
        "data.edge_index"
      ]
    },
    {
      "cell_type": "code",
      "execution_count": 61,
      "metadata": {},
      "outputs": [],
      "source": [
        "# import networkx as nx\n",
        "# from torch_geometric.utils import to_networkx\n",
        "# import matplotlib.pyplot as plt\n",
        "\n",
        "# plt.figure(figsize=(200, 200))\n",
        "\n",
        "# labels = [node.item() for node in data.y]\n",
        "# nx_graph = to_networkx(data)\n",
        "\n",
        "# nx.draw(\n",
        "#     nx_graph,\n",
        "#     pos=nx.spring_layout(nx_graph),\n",
        "#     node_color=labels,\n",
        "#     # node_size=10,\n",
        "#     cmap='coolwarm',\n",
        "#     # font_size=11,\n",
        "#     # font_color='white',\n",
        "#     with_labels=False,\n",
        "# )"
      ]
    }
  ],
  "metadata": {
    "colab": {
      "provenance": []
    },
    "kernelspec": {
      "display_name": "Python 3",
      "name": "python3"
    },
    "language_info": {
      "codemirror_mode": {
        "name": "ipython",
        "version": 3
      },
      "file_extension": ".py",
      "mimetype": "text/x-python",
      "name": "python",
      "nbconvert_exporter": "python",
      "pygments_lexer": "ipython3",
      "version": "3.11.4"
    }
  },
  "nbformat": 4,
  "nbformat_minor": 0
}
