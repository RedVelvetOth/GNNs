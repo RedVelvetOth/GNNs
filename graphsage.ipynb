{
 "cells": [
  {
   "cell_type": "markdown",
   "metadata": {},
   "source": [
    "# Multi-Label Classification on Protein-Protein Interaction"
   ]
  },
  {
   "cell_type": "code",
   "execution_count": 2,
   "metadata": {},
   "outputs": [],
   "source": [
    "import torch\n",
    "from sklearn.metrics import f1_score\n",
    "\n",
    "from torch_geometric.datasets import PPI\n",
    "from torch_geometric.data import Batch\n",
    "from torch_geometric.loader import DataLoader, NeighborLoader\n",
    "from torch_geometric.nn import GraphSAGE\n",
    "\n",
    "device = torch.device('mps' if torch.backends.mps.is_available() else 'cpu')"
   ]
  },
  {
   "cell_type": "code",
   "execution_count": 3,
   "metadata": {},
   "outputs": [],
   "source": [
    "# Load training, evaluation, and test sets\n",
    "train_dataset = PPI(root='./datasets/', split='train')\n",
    "val_dataset = PPI(root='./datasets/', split='val')\n",
    "test_dataset = PPI(root='./datasets/', split='test')"
   ]
  },
  {
   "cell_type": "code",
   "execution_count": 4,
   "metadata": {},
   "outputs": [],
   "source": [
    "# Unify the training graphs and apply neighbor sampling\n",
    "train_data = Batch.from_data_list(train_dataset)\n",
    "train_loader = NeighborLoader(\n",
    "    train_data,\n",
    "    batch_size=2048,\n",
    "    shuffle=True,\n",
    "    num_neighbors=[20, 10],\n",
    "    num_workers=2,\n",
    "    persistent_workers=True,\n",
    ")"
   ]
  },
  {
   "cell_type": "code",
   "execution_count": 5,
   "metadata": {},
   "outputs": [
    {
     "name": "stdout",
     "output_type": "stream",
     "text": [
      "DataBatch(x=[44906, 50], edge_index=[2, 1226368], y=[44906, 121], batch=[44906], ptr=[21])\n",
      "Num classes: 121\n",
      "Num node features: 50\n"
     ]
    }
   ],
   "source": [
    "print(train_data)\n",
    "print('Num classes:', train_dataset.num_classes)\n",
    "print('Num node features:', train_dataset.num_features)"
   ]
  },
  {
   "cell_type": "markdown",
   "metadata": {},
   "source": [
    "- Each node is a protein, with 50 features (x)\n",
    "- Each node belongs to as much as 121 classes (y)"
   ]
  },
  {
   "cell_type": "code",
   "execution_count": 6,
   "metadata": {},
   "outputs": [],
   "source": [
    "# Evaluation loaders (one datapoint corresponds to a graph)\n",
    "val_loader = DataLoader(val_dataset, batch_size=2)\n",
    "test_loader = DataLoader(test_dataset, batch_size=2)"
   ]
  },
  {
   "cell_type": "code",
   "execution_count": 7,
   "metadata": {},
   "outputs": [],
   "source": [
    "model = GraphSAGE(\n",
    "    in_channels=train_dataset.num_features,\n",
    "    hidden_channels=64,\n",
    "    num_layers=2,\n",
    "    out_channels=train_dataset.num_classes,\n",
    ").to(device)\n",
    "\n",
    "criterion = torch.nn.BCEWithLogitsLoss()\n",
    "optimizer = torch.optim.Adam(model.parameters(), lr=0.005)"
   ]
  },
  {
   "cell_type": "code",
   "execution_count": 8,
   "metadata": {},
   "outputs": [],
   "source": [
    "def fit(loader):\n",
    "    model.train()\n",
    "    total_loss = 0\n",
    "\n",
    "    for data in loader:\n",
    "        data = data.to(device)\n",
    "        optimizer.zero_grad()\n",
    "\n",
    "        out = model(data.x, data.edge_index)\n",
    "        loss = criterion(out, data.y)\n",
    "        # we have 2 graphs per batch, so we multiply the loss by 2\n",
    "        total_loss += loss.item() * data.num_graphs  \n",
    "\n",
    "        loss.backward()\n",
    "        optimizer.step()\n",
    "\n",
    "    return total_loss / len(loader.dataset)"
   ]
  },
  {
   "cell_type": "code",
   "execution_count": 13,
   "metadata": {},
   "outputs": [],
   "source": [
    "@torch.no_grad()\n",
    "def test(loader):\n",
    "    model.eval()\n",
    "\n",
    "    data = next(iter(loader))\n",
    "    out = model(data.x.to(device), data.edge_index.to(device))\n",
    "    preds = (out > 0).float().cpu()\n",
    "    print(out)\n",
    "    print(preds)\n",
    "\n",
    "    y, pred = data.y.numpy(), preds.numpy()\n",
    "    return f1_score(y, pred, average='micro') if pred.sum() > 0 else 0"
   ]
  },
  {
   "cell_type": "code",
   "execution_count": 14,
   "metadata": {},
   "outputs": [
    {
     "name": "stdout",
     "output_type": "stream",
     "text": [
      "tensor([[ 0.0813, -0.1173,  0.1798,  ...,  0.2478, -0.0782,  0.3677],\n",
      "        [ 0.5665, -0.2947, -0.2368,  ...,  0.0677,  0.3263,  0.1181],\n",
      "        [ 0.1805, -0.1533, -0.1491,  ..., -0.0139,  0.0287,  0.1809],\n",
      "        ...,\n",
      "        [ 0.4943, -0.3411, -0.4811,  ...,  0.1616, -0.1372,  0.0780],\n",
      "        [ 0.1127,  0.0255, -0.0986,  ..., -0.0507, -0.0936, -0.0121],\n",
      "        [ 0.0092, -0.1319, -0.1448,  ..., -0.1282,  0.0401,  0.1612]],\n",
      "       device='mps:0')\n",
      "tensor([[1., 0., 1.,  ..., 1., 0., 1.],\n",
      "        [1., 0., 0.,  ..., 1., 1., 1.],\n",
      "        [1., 0., 0.,  ..., 0., 1., 1.],\n",
      "        ...,\n",
      "        [1., 0., 0.,  ..., 1., 0., 1.],\n",
      "        [1., 1., 0.,  ..., 0., 0., 0.],\n",
      "        [1., 0., 0.,  ..., 0., 1., 1.]])\n"
     ]
    },
    {
     "data": {
      "text/plain": [
       "0.3652859757197721"
      ]
     },
     "execution_count": 14,
     "metadata": {},
     "output_type": "execute_result"
    }
   ],
   "source": [
    "# test(val_loader)"
   ]
  },
  {
   "cell_type": "code",
   "execution_count": null,
   "metadata": {},
   "outputs": [
    {
     "name": "stdout",
     "output_type": "stream",
     "text": [
      "Epoch   0 | Train Loss: 0.006 | Val F1-score: 0.4921\n",
      "Epoch  50 | Train Loss: 0.004 | Val F1-score: 0.7926\n",
      "Epoch 100 | Train Loss: 0.004 | Val F1-score: 0.8093\n",
      "Epoch 150 | Train Loss: 0.004 | Val F1-score: 0.8188\n",
      "Epoch 200 | Train Loss: 0.004 | Val F1-score: 0.8226\n",
      "Epoch 250 | Train Loss: 0.004 | Val F1-score: 0.8224\n",
      "Epoch 300 | Train Loss: 0.004 | Val F1-score: 0.8261"
     ]
    }
   ],
   "source": [
    "for epoch in range(301):\n",
    "    loss = fit(train_loader)\n",
    "    val_f1 = test(val_loader)\n",
    "    if epoch % 50 == 0:\n",
    "        print(f'Epoch {epoch:>3} | Train Loss: {loss:.3f} | Val F1-score: {val_f1:.4f}')"
   ]
  },
  {
   "cell_type": "code",
   "execution_count": null,
   "metadata": {},
   "outputs": [
    {
     "name": "stdout",
     "output_type": "stream",
     "text": [
      "Test F1-score: 0.6370\n"
     ]
    }
   ],
   "source": [
    "print(f'Test F1-score: {test(test_loader):.4f}')"
   ]
  }
 ],
 "metadata": {
  "kernelspec": {
   "display_name": "torchm1",
   "language": "python",
   "name": "python3"
  },
  "language_info": {
   "codemirror_mode": {
    "name": "ipython",
    "version": 3
   },
   "file_extension": ".py",
   "mimetype": "text/x-python",
   "name": "python",
   "nbconvert_exporter": "python",
   "pygments_lexer": "ipython3",
   "version": "3.11.4"
  },
  "orig_nbformat": 4
 },
 "nbformat": 4,
 "nbformat_minor": 2
}
